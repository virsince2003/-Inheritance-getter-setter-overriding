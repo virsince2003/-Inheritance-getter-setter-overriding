{
 "cells": [
  {
   "cell_type": "markdown",
   "id": "3030235d-edf1-45cc-8b62-b50aa267e327",
   "metadata": {},
   "source": [
    "Q1, Create a vehicle class with an init method having instance variables as name_of_vehicle, max_speed\n",
    "and average_of_vehicle."
   ]
  },
  {
   "cell_type": "code",
   "execution_count": 47,
   "id": "2e96d105-0bb6-4958-85f1-2eaca3fc3968",
   "metadata": {},
   "outputs": [],
   "source": [
    "class vehicle:\n",
    "    def __init__(self,name_of_vehicle,max_speed,average_of_speed):\n",
    "        self.name_of_vehicle = name_of_vehicle\n",
    "        self.max_speed = max_speed\n",
    "        self.average_of_speed = average_of_speed"
   ]
  },
  {
   "cell_type": "code",
   "execution_count": 46,
   "id": "d1af83df-caee-4bc5-bb78-7229251c36a7",
   "metadata": {},
   "outputs": [],
   "source": [
    "def details(self):\n",
    "    return  self.name_of_vehicle,self.max_speed,self.average_of_speed"
   ]
  },
  {
   "cell_type": "code",
   "execution_count": 20,
   "id": "56452278-fa9c-4a47-bc40-1c637c003743",
   "metadata": {},
   "outputs": [],
   "source": [
    "car=vehicle(\"Tarzan\",400,200) "
   ]
  },
  {
   "cell_type": "code",
   "execution_count": 22,
   "id": "7af7e264-69a8-4046-84e7-170b5ecd329e",
   "metadata": {},
   "outputs": [
    {
     "data": {
      "text/plain": [
       "'Tarzan'"
      ]
     },
     "execution_count": 22,
     "metadata": {},
     "output_type": "execute_result"
    }
   ],
   "source": [
    "car.name_of_vehicle"
   ]
  },
  {
   "cell_type": "code",
   "execution_count": 23,
   "id": "864e0789-3813-496e-beb3-35575aa645e2",
   "metadata": {},
   "outputs": [
    {
     "data": {
      "text/plain": [
       "400"
      ]
     },
     "execution_count": 23,
     "metadata": {},
     "output_type": "execute_result"
    }
   ],
   "source": [
    "car.max_speed"
   ]
  },
  {
   "cell_type": "code",
   "execution_count": 24,
   "id": "d12b6c2c-bef8-4ec6-a8a4-21cba264af5e",
   "metadata": {},
   "outputs": [
    {
     "data": {
      "text/plain": [
       "200"
      ]
     },
     "execution_count": 24,
     "metadata": {},
     "output_type": "execute_result"
    }
   ],
   "source": [
    "car.average_of_speed"
   ]
  },
  {
   "cell_type": "markdown",
   "id": "ca8031f6-c308-4623-9571-9120f885825c",
   "metadata": {},
   "source": [
    "Q2. Create a child class car from the vehicle class created in Que 1, which will inherit the vehicle class.\n",
    "Create a method named seating_capacity which takes capacity as an argument and returns the name of\n",
    "the vehicle and its seating capacity."
   ]
  },
  {
   "cell_type": "code",
   "execution_count": 3,
   "id": "bc6d3d0c-0177-4108-9bee-9541603c7bb2",
   "metadata": {},
   "outputs": [],
   "source": [
    "class Vehicle:\n",
    "    def __init__(self, name_of_vehicle, max_speed, average_of_speed,):\n",
    "        self.name_of_vehicle = name_of_vehicle\n",
    "        self.max_speed = max_speed\n",
    "        self.average_of_speed = average_of_speed"
   ]
  },
  {
   "cell_type": "code",
   "execution_count": 5,
   "id": "badd33d7-1c71-4990-af8d-e817898d6a19",
   "metadata": {},
   "outputs": [],
   "source": [
    "class child_car(Vehicle):\n",
    "    def __init__(self,name_of_vehicle, max_speed, average_of_speed,seat_capacity):\n",
    "        super().__init__(name_of_vehicle, max_speed, average_of_speed)\n",
    "        self.seat_capacity=seat_capacity"
   ]
  },
  {
   "cell_type": "code",
   "execution_count": 6,
   "id": "9574ed28-81a7-44c5-954b-836ed65c6482",
   "metadata": {},
   "outputs": [],
   "source": [
    "car=child_car(\"volvo\",300,100,8)"
   ]
  },
  {
   "cell_type": "code",
   "execution_count": 7,
   "id": "b8ae1895-48fd-4aa4-9516-4041c04e5254",
   "metadata": {},
   "outputs": [
    {
     "name": "stdout",
     "output_type": "stream",
     "text": [
      "THis is volvo and it can carry 8 passangers.\n"
     ]
    }
   ],
   "source": [
    "print(\"THis is {} and it can carry {} passangers.\".format(car.name_of_vehicle,car.seat_capacity))"
   ]
  },
  {
   "cell_type": "markdown",
   "id": "ca8780b9-11f6-4264-8ca8-646fe159abd0",
   "metadata": {},
   "source": [
    "Q3. What is multiple inheritance? Write a python code to demonstrate multiple inheritance."
   ]
  },
  {
   "cell_type": "raw",
   "id": "59fda62c-3dad-472f-81d9-fe55127d9560",
   "metadata": {},
   "source": [
    "When a class is derived from more than one base class it is called multiple Inheritance. The derived class inherits all the features of the base case."
   ]
  },
  {
   "cell_type": "code",
   "execution_count": 6,
   "id": "921b6ec2-d1c8-4a23-a3f8-1a5c0ee4caf3",
   "metadata": {},
   "outputs": [],
   "source": [
    "class Mom:\n",
    "    def x(self):\n",
    "        print(\"My  mother\")"
   ]
  },
  {
   "cell_type": "code",
   "execution_count": 30,
   "id": "e53a2b59-4f67-4595-9ee0-1392b96b84ce",
   "metadata": {},
   "outputs": [],
   "source": [
    "class Dad:\n",
    "    def x(self):\n",
    "        print(\"My father\")"
   ]
  },
  {
   "cell_type": "code",
   "execution_count": 43,
   "id": "e6f7048b-a593-4dac-a152-fefa9460c699",
   "metadata": {},
   "outputs": [
    {
     "name": "stdout",
     "output_type": "stream",
     "text": [
      "Mother and Dad\n"
     ]
    }
   ],
   "source": [
    "class both(Mom,Dad):\n",
    "    print(\"Mother and Dad\")"
   ]
  },
  {
   "cell_type": "code",
   "execution_count": 38,
   "id": "e07daa04-9f86-4f34-96d4-23f26c0836ca",
   "metadata": {},
   "outputs": [],
   "source": [
    "obj = both()"
   ]
  },
  {
   "cell_type": "code",
   "execution_count": 39,
   "id": "998379dc-50e4-42a7-b371-8790880c5c31",
   "metadata": {},
   "outputs": [
    {
     "name": "stdout",
     "output_type": "stream",
     "text": [
      "My  mother\n"
     ]
    }
   ],
   "source": [
    "Mom.x(obj)"
   ]
  },
  {
   "cell_type": "code",
   "execution_count": 40,
   "id": "67546a6c-7ecc-4fcd-81c5-3c4b3838a7a5",
   "metadata": {},
   "outputs": [
    {
     "name": "stdout",
     "output_type": "stream",
     "text": [
      "My father\n"
     ]
    }
   ],
   "source": [
    "Dad.x(obj)"
   ]
  },
  {
   "cell_type": "markdown",
   "id": "2b4fc3e6-a185-4cd7-bb4d-e8a1704b337a",
   "metadata": {},
   "source": [
    "Q4. What are getter and setter in python? Create a class and create a getter and a setter method in this\n",
    "class."
   ]
  },
  {
   "cell_type": "raw",
   "id": "43ae271b-fdc4-4963-ac75-c63391b925ae",
   "metadata": {},
   "source": [
    "Getter \"get()\" and setter \"set\"is used object orianted programming, and getters & setters to add validation logic around getting and setting a value."
   ]
  },
  {
   "cell_type": "code",
   "execution_count": 41,
   "id": "41a3892f-139d-4a4f-ba3f-7fda250aed12",
   "metadata": {},
   "outputs": [],
   "source": [
    "class python :\n",
    "    def set_name(self, Virender):\n",
    "        self.__name = Virender\n",
    "    def get_name(self):\n",
    "        return self.__name\n",
    "    "
   ]
  },
  {
   "cell_type": "code",
   "execution_count": 35,
   "id": "f5679078-d258-4cdc-82f1-035fea98ecff",
   "metadata": {},
   "outputs": [],
   "source": [
    "p = python()\n",
    "p.set_name(\"abhishek\")"
   ]
  },
  {
   "cell_type": "code",
   "execution_count": 36,
   "id": "9da6a109-6cd4-4d4b-84e4-ddc2ceeb0ac0",
   "metadata": {},
   "outputs": [
    {
     "name": "stdout",
     "output_type": "stream",
     "text": [
      "abhishek\n"
     ]
    }
   ],
   "source": [
    "print(p.get_name())"
   ]
  },
  {
   "cell_type": "markdown",
   "id": "47c7d1d8-61ab-49ac-a140-696cae9dc39b",
   "metadata": {},
   "source": [
    "Q5.What is method overriding in python? Write a python code to demonstrate method overriding."
   ]
  },
  {
   "cell_type": "raw",
   "id": "4b08ae45-cd7a-44db-b420-8d622afadf4e",
   "metadata": {},
   "source": [
    "Overriding in python allows a subclass or child class to provide a specific implementation of a method that is already provided by one of its super-classes or parent classes. When a method in a subclass has the same name, same parameters or signature"
   ]
  },
  {
   "cell_type": "code",
   "execution_count": 50,
   "id": "0ff69458-2af6-4c61-9fef-306a4bef4d6c",
   "metadata": {},
   "outputs": [],
   "source": [
    "class parent:\n",
    "    def __init__(self):\n",
    "        self.value = \"Parent_class\"\n",
    "    def move(self):\n",
    "        print(self.value)"
   ]
  },
  {
   "cell_type": "code",
   "execution_count": 51,
   "id": "0ebb5a43-a142-48c6-bd82-117baef74e9e",
   "metadata": {},
   "outputs": [],
   "source": [
    "class child(parent):\n",
    "    def __init__(self):\n",
    "        self.value = \"Child_class\"\n",
    "    def move(self):\n",
    "        print(self.value)"
   ]
  },
  {
   "cell_type": "code",
   "execution_count": 61,
   "id": "8bdabc00-0fc9-4814-bb7c-f4003dd28b66",
   "metadata": {},
   "outputs": [],
   "source": [
    "shoow = child()\n",
    "show = parent()"
   ]
  },
  {
   "cell_type": "code",
   "execution_count": 62,
   "id": "3a931437-e9da-42ad-9d84-5e084f655d5a",
   "metadata": {},
   "outputs": [
    {
     "name": "stdout",
     "output_type": "stream",
     "text": [
      "Child_class\n",
      "Parent_class\n"
     ]
    }
   ],
   "source": [
    "shoow.move()\n",
    "show.move()"
   ]
  }
 ],
 "metadata": {
  "kernelspec": {
   "display_name": "Python 3 (ipykernel)",
   "language": "python",
   "name": "python3"
  },
  "language_info": {
   "codemirror_mode": {
    "name": "ipython",
    "version": 3
   },
   "file_extension": ".py",
   "mimetype": "text/x-python",
   "name": "python",
   "nbconvert_exporter": "python",
   "pygments_lexer": "ipython3",
   "version": "3.10.8"
  }
 },
 "nbformat": 4,
 "nbformat_minor": 5
}
